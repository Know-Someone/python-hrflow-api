{
 "cells": [
  {
   "cell_type": "markdown",
   "metadata": {},
   "source": [
    "# Import hrflow"
   ]
  },
  {
   "cell_type": "code",
   "execution_count": 1,
   "metadata": {},
   "outputs": [],
   "source": [
    "import hrflow as hf"
   ]
  },
  {
   "cell_type": "markdown",
   "metadata": {},
   "source": [
    "# Launch hrflow Client"
   ]
  },
  {
   "cell_type": "code",
   "execution_count": 2,
   "metadata": {},
   "outputs": [],
   "source": [
    "client = hf.Client(api_secret=\"ask_d6774338ad024297a8ac5431614513c1\")"
   ]
  },
  {
   "cell_type": "markdown",
   "metadata": {},
   "source": [
    "# POST /job "
   ]
  },
  {
   "cell_type": "code",
   "execution_count": 3,
   "metadata": {},
   "outputs": [
    {
     "name": "stdout",
     "output_type": "stream",
     "text": [
      "3\n",
      "file to send: total: 25\n",
      "/home/alaeddine/Documents/cvs/0.jpeg\n",
      "/home/alaeddine/Documents/cvs/IDSOUGUOU_Younes.pdf\n",
      "/home/alaeddine/Documents/cvs/cv_seb.pdf\n",
      "/home/alaeddine/Documents/cvs/fake_resumes/data_scientist/10.png\n",
      "/home/alaeddine/Documents/cvs/fake_resumes/data_scientist/1.jpg\n",
      "/home/alaeddine/Documents/cvs/fake_resumes/data_scientist/7.png\n",
      "/home/alaeddine/Documents/cvs/fake_resumes/data_scientist/6.jpg\n",
      "/home/alaeddine/Documents/cvs/fake_resumes/data_scientist/4.jpg\n",
      "/home/alaeddine/Documents/cvs/fake_resumes/data_scientist/8.png\n",
      "/home/alaeddine/Documents/cvs/fake_resumes/data_scientist/5.png\n",
      "/home/alaeddine/Documents/cvs/fake_resumes/data_scientist/9.jpg\n",
      "/home/alaeddine/Documents/cvs/fake_resumes/data_scientist/3.png\n",
      "/home/alaeddine/Documents/cvs/fake_resumes/hr/4.png\n",
      "/home/alaeddine/Documents/cvs/fake_resumes/hr/1.png\n",
      "/home/alaeddine/Documents/cvs/fake_resumes/hr/7.png\n",
      "/home/alaeddine/Documents/cvs/fake_resumes/hr/8.jpg\n",
      "/home/alaeddine/Documents/cvs/fake_resumes/hr/10.jpg\n",
      "/home/alaeddine/Documents/cvs/fake_resumes/hr/5.png\n",
      "/home/alaeddine/Documents/cvs/fake_resumes/hr/9.jpg\n",
      "/home/alaeddine/Documents/cvs/fake_resumes/hr/3.png\n",
      "/home/alaeddine/Documents/cvs/fake_resumes/original.pdf\n",
      "/home/alaeddine/Documents/cvs/Rouquier_CV.pdf\n",
      "/home/alaeddine/Documents/cvs/original.pdf\n",
      "/home/alaeddine/Documents/cvs/DEKHTIAR-Jonathan-CV-French.pdf\n",
      "/home/alaeddine/Documents/cvs/Michael Cutler Resume.pdf\n",
      "\n",
      "3\n",
      "0\n",
      "1\n",
      "2\n",
      "[%4] - {\"file\": \"/home/alaeddine/Documents/cvs/Michael Cutler Resume.pdf\", \"sended\": true, \"result\": \"{'code': 201, 'message': 'Profile file added', 'data': {'item_id': 'f3f233abc891287f72630d50350d439dfea41d4c', 'item_type': 'file'}}\"}\n",
      "[%8] - {\"file\": \"/home/alaeddine/Documents/cvs/original.pdf\", \"sended\": true, \"result\": \"{'code': 201, 'message': 'Profile file added', 'data': {'item_id': '06a1aa15b5953666528a69ec9e0c4165c2875a10', 'item_type': 'file'}}\"}\n",
      "[%12] - {\"file\": \"/home/alaeddine/Documents/cvs/DEKHTIAR-Jonathan-CV-French.pdf\", \"sended\": true, \"result\": \"{'code': 201, 'message': 'Profile file added', 'data': {'item_id': 'a691c17714206dadef6a421650914a5fc25eb6f9', 'item_type': 'file'}}\"}\n",
      "[%16] - {\"file\": \"/home/alaeddine/Documents/cvs/Rouquier_CV.pdf\", \"sended\": true, \"result\": \"{'code': 201, 'message': 'Profile file added', 'data': {'item_id': '1bffaf65b312896feaf85169129ac9034bfb02b2', 'item_type': 'file'}}\"}\n",
      "[%20] - {\"file\": \"/home/alaeddine/Documents/cvs/fake_resumes/original.pdf\", \"sended\": true, \"result\": \"{'code': 201, 'message': 'Profile file added', 'data': {'item_id': 'a7de3159e822e94c7caa94557657f50a685ddc52', 'item_type': 'file'}}\"}\n",
      "[%24] - {\"file\": \"/home/alaeddine/Documents/cvs/fake_resumes/hr/3.png\", \"sended\": true, \"result\": \"{'code': 201, 'message': 'Profile file added', 'data': {'item_id': '7c82aca1271d6b369eed3b4fcf09a6bfdbfa5de3', 'item_type': 'file'}}\"}\n",
      "[%28] - {\"file\": \"/home/alaeddine/Documents/cvs/fake_resumes/hr/9.jpg\", \"sended\": true, \"result\": \"{'code': 201, 'message': 'Profile file added', 'data': {'item_id': '9124ba553ce201f16167a510d309da81a79a932e', 'item_type': 'file'}}\"}\n",
      "[%32] - {\"file\": \"/home/alaeddine/Documents/cvs/fake_resumes/hr/5.png\", \"sended\": true, \"result\": \"{'code': 201, 'message': 'Profile file added', 'data': {'item_id': '7376adc3fc9c02a3fec6a647454dacd1a1069191', 'item_type': 'file'}}\"}\n",
      "[%36] - {\"file\": \"/home/alaeddine/Documents/cvs/fake_resumes/hr/10.jpg\", \"sended\": true, \"result\": \"{'code': 201, 'message': 'Profile file added', 'data': {'item_id': '874b127b96d18d9378333176af4162dd9fffb12f', 'item_type': 'file'}}\"}\n",
      "[%40] - {\"file\": \"/home/alaeddine/Documents/cvs/fake_resumes/hr/8.jpg\", \"sended\": true, \"result\": \"{'code': 201, 'message': 'Profile file added', 'data': {'item_id': 'f7ad7fd9f557e971d093359b9c52d8307d77a3fd', 'item_type': 'file'}}\"}\n",
      "[%44] - {\"file\": \"/home/alaeddine/Documents/cvs/fake_resumes/hr/7.png\", \"sended\": true, \"result\": \"{'code': 201, 'message': 'Profile file added', 'data': {'item_id': 'dd78b0a63cf80441b9a3f43d6c2caf4101e06b6c', 'item_type': 'file'}}\"}\n",
      "[%48] - {\"file\": \"/home/alaeddine/Documents/cvs/fake_resumes/hr/1.png\", \"sended\": true, \"result\": \"{'code': 201, 'message': 'Profile file added', 'data': {'item_id': '24a2d8b1d10a19bcfbd232848c2f12545d6953d1', 'item_type': 'file'}}\"}\n",
      "[%52] - {\"file\": \"/home/alaeddine/Documents/cvs/fake_resumes/hr/4.png\", \"sended\": true, \"result\": \"{'code': 201, 'message': 'Profile file added', 'data': {'item_id': '15de3d39af56d8cfd7b75d759db04959ad4797cc', 'item_type': 'file'}}\"}\n",
      "[%56] - {\"file\": \"/home/alaeddine/Documents/cvs/fake_resumes/data_scientist/3.png\", \"sended\": true, \"result\": \"{'code': 201, 'message': 'Profile file added', 'data': {'item_id': '669b42a0dc10f354fd90f3925e3c9fd3759b8bc7', 'item_type': 'file'}}\"}\n",
      "[%60] - {\"file\": \"/home/alaeddine/Documents/cvs/fake_resumes/data_scientist/9.jpg\", \"sended\": true, \"result\": \"{'code': 201, 'message': 'Profile file added', 'data': {'item_id': 'ae284e0c942fa0c999e12bb7afbdeb90883b5079', 'item_type': 'file'}}\"}\n",
      "[%64] - {\"file\": \"/home/alaeddine/Documents/cvs/fake_resumes/data_scientist/5.png\", \"sended\": true, \"result\": \"{'code': 201, 'message': 'Profile file added', 'data': {'item_id': 'eae606d0231f7d828a64ad7fdfe83863a2796850', 'item_type': 'file'}}\"}\n",
      "[%68] - {\"file\": \"/home/alaeddine/Documents/cvs/fake_resumes/data_scientist/8.png\", \"sended\": true, \"result\": \"{'code': 201, 'message': 'Profile file added', 'data': {'item_id': 'b4c3535dc050cb061ed93c17e1944ce378ae3856', 'item_type': 'file'}}\"}\n",
      "[%72] - {\"file\": \"/home/alaeddine/Documents/cvs/fake_resumes/data_scientist/4.jpg\", \"sended\": true, \"result\": \"{'code': 201, 'message': 'Profile file added', 'data': {'item_id': 'dfa393958d413ac75eba34f94992fdad86a056dc', 'item_type': 'file'}}\"}\n",
      "[%76] - {\"file\": \"/home/alaeddine/Documents/cvs/fake_resumes/data_scientist/6.jpg\", \"sended\": true, \"result\": \"{'code': 201, 'message': 'Profile file added', 'data': {'item_id': 'e74bc8892abaa7f80cd257610a55385df4e34d3e', 'item_type': 'file'}}\"}\n",
      "[%80] - {\"file\": \"/home/alaeddine/Documents/cvs/fake_resumes/data_scientist/7.png\", \"sended\": true, \"result\": \"{'code': 201, 'message': 'Profile file added', 'data': {'item_id': '11f1598bee221d241313a35e551dd720f3fe5911', 'item_type': 'file'}}\"}\n",
      "[%84] - {\"file\": \"/home/alaeddine/Documents/cvs/fake_resumes/data_scientist/1.jpg\", \"sended\": true, \"result\": \"{'code': 201, 'message': 'Profile file added', 'data': {'item_id': '40dc1b33cfa789eacf32d503923f368463f6c0e0', 'item_type': 'file'}}\"}\n",
      "[%88] - {\"file\": \"/home/alaeddine/Documents/cvs/fake_resumes/data_scientist/10.png\", \"sended\": true, \"result\": \"{'code': 201, 'message': 'Profile file added', 'data': {'item_id': '1cbfa7d44aa49e445eed96701ff6522b02b2eed2', 'item_type': 'file'}}\"}\n",
      "[%92] - {\"file\": \"/home/alaeddine/Documents/cvs/cv_seb.pdf\", \"sended\": true, \"result\": \"{'code': 201, 'message': 'Profile file added', 'data': {'item_id': '03e9fe920f26461b64f34a9b04120d966b62e414', 'item_type': 'file'}}\"}\n",
      "[%96] - {\"file\": \"/home/alaeddine/Documents/cvs/IDSOUGUOU_Younes.pdf\", \"sended\": true, \"result\": \"{'code': 201, 'message': 'Profile file added', 'data': {'item_id': '955016885f516c87665a8af882b4e1baa51a1956', 'item_type': 'file'}}\"}\n",
      "[%100] - {\"file\": \"/home/alaeddine/Documents/cvs/0.jpeg\", \"sended\": true, \"result\": \"{'code': 201, 'message': 'Profile file added', 'data': {'item_id': '8186f385721454d7d13332784991e1a10ef34400', 'item_type': 'file'}}\"}\n"
     ]
    },
    {
     "name": "stderr",
     "output_type": "stream",
     "text": [
      "{\"file\": \"/home/alaeddine/Documents/cvs/Michael Cutler Resume.pdf\", \"sended\": true, \"result\": \"{'code': 201, 'message': 'Profile file added', 'data': {'item_id': 'f3f233abc891287f72630d50350d439dfea41d4c', 'item_type': 'file'}}\"}\n",
      "{\"file\": \"/home/alaeddine/Documents/cvs/original.pdf\", \"sended\": true, \"result\": \"{'code': 201, 'message': 'Profile file added', 'data': {'item_id': '06a1aa15b5953666528a69ec9e0c4165c2875a10', 'item_type': 'file'}}\"}\n",
      "{\"file\": \"/home/alaeddine/Documents/cvs/DEKHTIAR-Jonathan-CV-French.pdf\", \"sended\": true, \"result\": \"{'code': 201, 'message': 'Profile file added', 'data': {'item_id': 'a691c17714206dadef6a421650914a5fc25eb6f9', 'item_type': 'file'}}\"}\n",
      "{\"file\": \"/home/alaeddine/Documents/cvs/Rouquier_CV.pdf\", \"sended\": true, \"result\": \"{'code': 201, 'message': 'Profile file added', 'data': {'item_id': '1bffaf65b312896feaf85169129ac9034bfb02b2', 'item_type': 'file'}}\"}\n",
      "{\"file\": \"/home/alaeddine/Documents/cvs/fake_resumes/original.pdf\", \"sended\": true, \"result\": \"{'code': 201, 'message': 'Profile file added', 'data': {'item_id': 'a7de3159e822e94c7caa94557657f50a685ddc52', 'item_type': 'file'}}\"}\n",
      "{\"file\": \"/home/alaeddine/Documents/cvs/fake_resumes/hr/3.png\", \"sended\": true, \"result\": \"{'code': 201, 'message': 'Profile file added', 'data': {'item_id': '7c82aca1271d6b369eed3b4fcf09a6bfdbfa5de3', 'item_type': 'file'}}\"}\n",
      "{\"file\": \"/home/alaeddine/Documents/cvs/fake_resumes/hr/9.jpg\", \"sended\": true, \"result\": \"{'code': 201, 'message': 'Profile file added', 'data': {'item_id': '9124ba553ce201f16167a510d309da81a79a932e', 'item_type': 'file'}}\"}\n",
      "{\"file\": \"/home/alaeddine/Documents/cvs/fake_resumes/hr/5.png\", \"sended\": true, \"result\": \"{'code': 201, 'message': 'Profile file added', 'data': {'item_id': '7376adc3fc9c02a3fec6a647454dacd1a1069191', 'item_type': 'file'}}\"}\n",
      "{\"file\": \"/home/alaeddine/Documents/cvs/fake_resumes/hr/10.jpg\", \"sended\": true, \"result\": \"{'code': 201, 'message': 'Profile file added', 'data': {'item_id': '874b127b96d18d9378333176af4162dd9fffb12f', 'item_type': 'file'}}\"}\n",
      "{\"file\": \"/home/alaeddine/Documents/cvs/fake_resumes/hr/8.jpg\", \"sended\": true, \"result\": \"{'code': 201, 'message': 'Profile file added', 'data': {'item_id': 'f7ad7fd9f557e971d093359b9c52d8307d77a3fd', 'item_type': 'file'}}\"}\n",
      "{\"file\": \"/home/alaeddine/Documents/cvs/fake_resumes/hr/7.png\", \"sended\": true, \"result\": \"{'code': 201, 'message': 'Profile file added', 'data': {'item_id': 'dd78b0a63cf80441b9a3f43d6c2caf4101e06b6c', 'item_type': 'file'}}\"}\n",
      "{\"file\": \"/home/alaeddine/Documents/cvs/fake_resumes/hr/1.png\", \"sended\": true, \"result\": \"{'code': 201, 'message': 'Profile file added', 'data': {'item_id': '24a2d8b1d10a19bcfbd232848c2f12545d6953d1', 'item_type': 'file'}}\"}\n",
      "{\"file\": \"/home/alaeddine/Documents/cvs/fake_resumes/hr/4.png\", \"sended\": true, \"result\": \"{'code': 201, 'message': 'Profile file added', 'data': {'item_id': '15de3d39af56d8cfd7b75d759db04959ad4797cc', 'item_type': 'file'}}\"}\n",
      "{\"file\": \"/home/alaeddine/Documents/cvs/fake_resumes/data_scientist/3.png\", \"sended\": true, \"result\": \"{'code': 201, 'message': 'Profile file added', 'data': {'item_id': '669b42a0dc10f354fd90f3925e3c9fd3759b8bc7', 'item_type': 'file'}}\"}\n",
      "{\"file\": \"/home/alaeddine/Documents/cvs/fake_resumes/data_scientist/9.jpg\", \"sended\": true, \"result\": \"{'code': 201, 'message': 'Profile file added', 'data': {'item_id': 'ae284e0c942fa0c999e12bb7afbdeb90883b5079', 'item_type': 'file'}}\"}\n",
      "{\"file\": \"/home/alaeddine/Documents/cvs/fake_resumes/data_scientist/5.png\", \"sended\": true, \"result\": \"{'code': 201, 'message': 'Profile file added', 'data': {'item_id': 'eae606d0231f7d828a64ad7fdfe83863a2796850', 'item_type': 'file'}}\"}\n",
      "{\"file\": \"/home/alaeddine/Documents/cvs/fake_resumes/data_scientist/8.png\", \"sended\": true, \"result\": \"{'code': 201, 'message': 'Profile file added', 'data': {'item_id': 'b4c3535dc050cb061ed93c17e1944ce378ae3856', 'item_type': 'file'}}\"}\n",
      "{\"file\": \"/home/alaeddine/Documents/cvs/fake_resumes/data_scientist/4.jpg\", \"sended\": true, \"result\": \"{'code': 201, 'message': 'Profile file added', 'data': {'item_id': 'dfa393958d413ac75eba34f94992fdad86a056dc', 'item_type': 'file'}}\"}\n",
      "{\"file\": \"/home/alaeddine/Documents/cvs/fake_resumes/data_scientist/6.jpg\", \"sended\": true, \"result\": \"{'code': 201, 'message': 'Profile file added', 'data': {'item_id': 'e74bc8892abaa7f80cd257610a55385df4e34d3e', 'item_type': 'file'}}\"}\n",
      "{\"file\": \"/home/alaeddine/Documents/cvs/fake_resumes/data_scientist/7.png\", \"sended\": true, \"result\": \"{'code': 201, 'message': 'Profile file added', 'data': {'item_id': '11f1598bee221d241313a35e551dd720f3fe5911', 'item_type': 'file'}}\"}\n",
      "{\"file\": \"/home/alaeddine/Documents/cvs/fake_resumes/data_scientist/1.jpg\", \"sended\": true, \"result\": \"{'code': 201, 'message': 'Profile file added', 'data': {'item_id': '40dc1b33cfa789eacf32d503923f368463f6c0e0', 'item_type': 'file'}}\"}\n",
      "{\"file\": \"/home/alaeddine/Documents/cvs/fake_resumes/data_scientist/10.png\", \"sended\": true, \"result\": \"{'code': 201, 'message': 'Profile file added', 'data': {'item_id': '1cbfa7d44aa49e445eed96701ff6522b02b2eed2', 'item_type': 'file'}}\"}\n",
      "{\"file\": \"/home/alaeddine/Documents/cvs/cv_seb.pdf\", \"sended\": true, \"result\": \"{'code': 201, 'message': 'Profile file added', 'data': {'item_id': '03e9fe920f26461b64f34a9b04120d966b62e414', 'item_type': 'file'}}\"}\n",
      "{\"file\": \"/home/alaeddine/Documents/cvs/IDSOUGUOU_Younes.pdf\", \"sended\": true, \"result\": \"{'code': 201, 'message': 'Profile file added', 'data': {'item_id': '955016885f516c87665a8af882b4e1baa51a1956', 'item_type': 'file'}}\"}\n",
      "{\"file\": \"/home/alaeddine/Documents/cvs/0.jpeg\", \"sended\": true, \"result\": \"{'code': 201, 'message': 'Profile file added', 'data': {'item_id': '8186f385721454d7d13332784991e1a10ef34400', 'item_type': 'file'}}\"}\n",
      "\n"
     ]
    },
    {
     "name": "stdout",
     "output_type": "stream",
     "text": [
      "sended: 25\n",
      "failed: 0\n",
      "total: 25\n",
      "\n",
      "CPU times: user 286 ms, sys: 38.8 ms, total: 324 ms\n",
      "Wall time: 30.3 s\n"
     ]
    },
    {
     "data": {
      "text/plain": [
       "True"
      ]
     },
     "execution_count": 3,
     "metadata": {},
     "output_type": "execute_result"
    }
   ],
   "source": [
    "%%time\n",
    "res = client.importer.set(source_id=\"6bad4d9d79366fa71a747df48194617f3e483a9e\",\n",
    "                          target=[\"/home/alaeddine/Documents/cvs\"])\n",
    "res"
   ]
  },
  {
   "cell_type": "code",
   "execution_count": null,
   "metadata": {},
   "outputs": [],
   "source": []
  }
 ],
 "metadata": {
  "kernelspec": {
   "display_name": "Python 3",
   "language": "python",
   "name": "python3"
  },
  "language_info": {
   "codemirror_mode": {
    "name": "ipython",
    "version": 3
   },
   "file_extension": ".py",
   "mimetype": "text/x-python",
   "name": "python",
   "nbconvert_exporter": "python",
   "pygments_lexer": "ipython3",
   "version": "3.6.9"
  }
 },
 "nbformat": 4,
 "nbformat_minor": 2
}
