{
 "cells": [
  {
   "cell_type": "markdown",
   "metadata": {},
   "source": [
    "# Import hrflow"
   ]
  },
  {
   "cell_type": "code",
   "execution_count": 1,
   "metadata": {},
   "outputs": [],
   "source": [
    "import hrflow"
   ]
  },
  {
   "cell_type": "markdown",
   "metadata": {},
   "source": [
    "# Launch hrflow Client"
   ]
  },
  {
   "cell_type": "code",
   "execution_count": 2,
   "metadata": {},
   "outputs": [],
   "source": [
    "client = hrflow.Client(api_key=\"ask_cbe04b31bde4c51c6bf0d320d4b285c2\")"
   ]
  },
  {
   "cell_type": "markdown",
   "metadata": {},
   "source": [
    "# POST /webhook/check"
   ]
  },
  {
   "cell_type": "code",
   "execution_count": 3,
   "metadata": {},
   "outputs": [
    {
     "name": "stdout",
     "output_type": "stream",
     "text": [
      "CPU times: user 11.6 ms, sys: 3.54 ms, total: 15.2 ms\n",
      "Wall time: 1.67 s\n"
     ]
    },
    {
     "data": {
      "text/plain": [
       "{'code': 200,\n",
       " 'message': 'ok',\n",
       " 'data': {'team_name': 'stark',\n",
       "  'webhook_id': 'wid_9383676045e5658e3dc9ea',\n",
       "  'url': 'https://webhook.site/5a84e0aa-c9e8-4410-948e-322294116eef',\n",
       "  'type': 'profile.parsing.success'}}"
      ]
     },
     "execution_count": 3,
     "metadata": {},
     "output_type": "execute_result"
    }
   ],
   "source": [
    "%%time\n",
    "\n",
    "client.webhooks.check(url='https://webhook.site/5a84e0aa-c9e8-4410-948e-322294116eef', type='profile.parsing.success')"
   ]
  },
  {
   "cell_type": "code",
   "execution_count": 11,
   "metadata": {},
   "outputs": [],
   "source": [
    "client.webhooks.setHandler('profile.parsing.success', 'https://webhook.site/5a84e0aa-c9e8-4410-948e-322294116eef')"
   ]
  },
  {
   "cell_type": "code",
   "execution_count": 12,
   "metadata": {},
   "outputs": [
    {
     "data": {
      "text/plain": [
       "True"
      ]
     },
     "execution_count": 12,
     "metadata": {},
     "output_type": "execute_result"
    }
   ],
   "source": [
    "client.webhooks.isHandlerPresent('profile.parsing.success')"
   ]
  },
  {
   "cell_type": "code",
   "execution_count": 9,
   "metadata": {},
   "outputs": [],
   "source": [
    "client.webhooks.removeHandler('profile.parsing.success')"
   ]
  },
  {
   "cell_type": "code",
   "execution_count": null,
   "metadata": {},
   "outputs": [],
   "source": [
    "client.webhooks._get_signature_header('profile.parsing.success')"
   ]
  },
  {
   "cell_type": "code",
   "execution_count": null,
   "metadata": {},
   "outputs": [],
   "source": [
    "def gen_webhook_request(self, type):\n",
    "    data = {\n",
    "        'type': type,\n",
    "        'message': 'pou lou lou',\n",
    "        'profile': {'profile_id': '1', 'profile_reference': 'I\\'m free'}\n",
    "    }\n",
    "    json_data = json.dumps(data)\n",
    "    webhook_secret = bytesutils.strtobytes(self.webhook_secret, 'ascii')\n",
    "    json_data = bytesutils.strtobytes(json_data, 'utf8')\n",
    "    hasher = hmac.new(webhook_secret, json_data, hashlib.sha256)\n",
    "    encoded_sign = bytesutils.strtobytes(hasher.hexdigest(), 'ascii')\n",
    "    byte_encoded_sign = base64.b64encode(encoded_sign)\n",
    "    byte_json_data = base64.b64encode(json_data)\n",
    "    sign = '{}.{}'.format(byte_encoded_sign.decode('ascii'), byte_json_data.decode('ascii'))\n",
    "    res = {'HTTP-HRFLOW-SIGNATURE': sign}\n",
    "    return res"
   ]
  },
  {
   "cell_type": "code",
   "execution_count": null,
   "metadata": {},
   "outputs": [],
   "source": [
    "def test_handle_request(self):\n",
    "#         self.reset_test_value()\n",
    "#         self.client.webhooks.setHandler(EVENT_FILTER_SCORE_ERROR, TestWebhook.handler)\n",
    "#         webhook_req = self.helper.gen_webhook_request(EVENT_FILTER_SCORE_ERROR)\n",
    "#         self.client.webhooks.handle(signature_header=webhook_req['HTTP-HRFLOW-SIGNATURE'])\n",
    "#         self.assertEqual(TestWebhook.last_evt_type, EVENT_FILTER_SCORE_ERROR)\n",
    "#         if 'profile' not in TestWebhook.last_decoded_request:\n",
    "#             self.fail('Resquest is not full.')"
   ]
  },
  {
   "cell_type": "code",
   "execution_count": null,
   "metadata": {},
   "outputs": [],
   "source": []
  }
 ],
 "metadata": {
  "kernelspec": {
   "display_name": "Python 3",
   "language": "python",
   "name": "python3"
  },
  "language_info": {
   "codemirror_mode": {
    "name": "ipython",
    "version": 3
   },
   "file_extension": ".py",
   "mimetype": "text/x-python",
   "name": "python",
   "nbconvert_exporter": "python",
   "pygments_lexer": "ipython3",
   "version": "3.6.9"
  }
 },
 "nbformat": 4,
 "nbformat_minor": 2
}
