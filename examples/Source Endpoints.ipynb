{
 "cells": [
  {
   "cell_type": "markdown",
   "metadata": {},
   "source": [
    "# Install hrflow"
   ]
  },
  {
   "cell_type": "code",
   "execution_count": 1,
   "metadata": {},
   "outputs": [
    {
     "name": "stdout",
     "output_type": "stream",
     "text": [
      "Defaulting to user installation because normal site-packages is not writeable\n",
      "Requirement already satisfied: hrflow in /usr/local/lib/python3.6/dist-packages (1.6.2)\n",
      "Requirement already satisfied: requests in /usr/local/lib/python3.6/dist-packages (from hrflow) (2.22.0)\n",
      "Requirement already satisfied: python-magic in /usr/local/lib/python3.6/dist-packages/python_magic-0.4.15-py3.6.egg (from hrflow) (0.4.15)\n",
      "Requirement already satisfied: idna<2.9,>=2.5 in /usr/local/lib/python3.6/dist-packages (from requests->hrflow) (2.8)\n",
      "Requirement already satisfied: urllib3!=1.25.0,!=1.25.1,<1.26,>=1.21.1 in /usr/local/lib/python3.6/dist-packages (from requests->hrflow) (1.24.3)\n",
      "Requirement already satisfied: certifi>=2017.4.17 in /usr/local/lib/python3.6/dist-packages (from requests->hrflow) (2019.3.9)\n",
      "Requirement already satisfied: chardet<3.1.0,>=3.0.2 in /usr/local/lib/python3.6/dist-packages (from requests->hrflow) (3.0.4)\n"
     ]
    }
   ],
   "source": [
    "!pip3 install hrflow"
   ]
  },
  {
   "cell_type": "markdown",
   "metadata": {},
   "source": [
    "# Import hrflow"
   ]
  },
  {
   "cell_type": "code",
   "execution_count": 2,
   "metadata": {},
   "outputs": [],
   "source": [
    "import hrflow"
   ]
  },
  {
   "cell_type": "markdown",
   "metadata": {},
   "source": [
    "# Launch hrflow Client"
   ]
  },
  {
   "cell_type": "code",
   "execution_count": 3,
   "metadata": {},
   "outputs": [],
   "source": [
    "client = hrflow.Client(api_secret=\"ask_e2ce68195a8e474a5fbd0f5a8126eaed\")"
   ]
  },
  {
   "cell_type": "markdown",
   "metadata": {},
   "source": [
    "# GET /sources"
   ]
  },
  {
   "cell_type": "code",
   "execution_count": 5,
   "metadata": {},
   "outputs": [
    {
     "name": "stdout",
     "output_type": "stream",
     "text": [
      "CPU times: user 14.1 ms, sys: 0 ns, total: 14.1 ms\n",
      "Wall time: 625 ms\n"
     ]
    },
    {
     "data": {
      "text/plain": [
       "{'code': 200,\n",
       " 'page': 1,\n",
       " 'maxPage': 1,\n",
       " 'count': 4,\n",
       " 'total': 4,\n",
       " 'message': 'Source list',\n",
       " 'data': [{'source_id': '66f0ab1f96c2aa5c1c97f5c7dd0d6c60ff1f3324',\n",
       "   'name': 'http_api-test',\n",
       "   'type': 'api',\n",
       "   'sub_type': 'api',\n",
       "   'archive': False,\n",
       "   'date_creation': {'date': '2020-04-06 16:40:37.000000',\n",
       "    'timezone_type': 3,\n",
       "    'timezone': 'UTC'},\n",
       "   'stats': {'total_profiles': '0'}},\n",
       "  {'source_id': '0201cf46afcdd4d15b04eab88de6703f40a1f9be',\n",
       "   'name': 'php',\n",
       "   'type': 'api',\n",
       "   'sub_type': 'api',\n",
       "   'archive': False,\n",
       "   'date_creation': {'date': '2020-04-06 15:12:03.000000',\n",
       "    'timezone_type': 3,\n",
       "    'timezone': 'UTC'},\n",
       "   'stats': {'total_profiles': '0'}},\n",
       "  {'source_id': '254b7a7e6b26941628e4dfb580bbde47458ccb3c',\n",
       "   'name': 'php-test',\n",
       "   'type': 'api',\n",
       "   'sub_type': 'api',\n",
       "   'archive': False,\n",
       "   'date_creation': {'date': '2020-04-06 12:20:32.000000',\n",
       "    'timezone_type': 3,\n",
       "    'timezone': 'UTC'},\n",
       "   'stats': {'total_profiles': '0'}},\n",
       "  {'source_id': '9b86538a189184ae0b8090ca8c906c4df82c91fd',\n",
       "   'name': 'CV',\n",
       "   'type': 'folder',\n",
       "   'sub_type': 'folder',\n",
       "   'archive': False,\n",
       "   'date_creation': {'date': '2020-03-03 14:24:45.000000',\n",
       "    'timezone_type': 3,\n",
       "    'timezone': 'UTC'},\n",
       "   'stats': {'total_profiles': '2'}}]}"
      ]
     },
     "execution_count": 5,
     "metadata": {},
     "output_type": "execute_result"
    }
   ],
   "source": [
    "%%time\n",
    "\n",
    "client.source.search()"
   ]
  },
  {
   "cell_type": "markdown",
   "metadata": {},
   "source": [
    "# GET /source"
   ]
  },
  {
   "cell_type": "code",
   "execution_count": 6,
   "metadata": {},
   "outputs": [
    {
     "name": "stdout",
     "output_type": "stream",
     "text": [
      "CPU times: user 17.7 ms, sys: 187 µs, total: 17.9 ms\n",
      "Wall time: 646 ms\n"
     ]
    },
    {
     "data": {
      "text/plain": [
       "{'code': 200,\n",
       " 'message': 'Source info',\n",
       " 'data': {'source_id': '9b86538a189184ae0b8090ca8c906c4df82c91fd',\n",
       "  'name': 'CV',\n",
       "  'type': 'folder',\n",
       "  'sub_type': 'folder',\n",
       "  'archive': False,\n",
       "  'date_creation': {'date': '2020-03-03 14:24:45.000000',\n",
       "   'timezone_type': 3,\n",
       "   'timezone': 'UTC'}}}"
      ]
     },
     "execution_count": 6,
     "metadata": {},
     "output_type": "execute_result"
    }
   ],
   "source": [
    "%%time\n",
    "\n",
    "client.source.get(source_id=\"9b86538a189184ae0b8090ca8c906c4df82c91fd\")"
   ]
  },
  {
   "cell_type": "code",
   "execution_count": null,
   "metadata": {},
   "outputs": [],
   "source": []
  }
 ],
 "metadata": {
  "kernelspec": {
   "display_name": "Python 3",
   "language": "python",
   "name": "python3"
  },
  "language_info": {
   "codemirror_mode": {
    "name": "ipython",
    "version": 3
   },
   "file_extension": ".py",
   "mimetype": "text/x-python",
   "name": "python",
   "nbconvert_exporter": "python",
   "pygments_lexer": "ipython3",
   "version": "3.6.9"
  }
 },
 "nbformat": 4,
 "nbformat_minor": 2
}
