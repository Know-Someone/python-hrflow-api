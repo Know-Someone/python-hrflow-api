{
 "cells": [
  {
   "cell_type": "markdown",
   "metadata": {},
   "source": [
    "# Import hrflow"
   ]
  },
  {
   "cell_type": "code",
   "execution_count": 1,
   "metadata": {},
   "outputs": [],
   "source": [
    "import hrflow"
   ]
  },
  {
   "cell_type": "markdown",
   "metadata": {},
   "source": [
    "# Launch hrflow Client"
   ]
  },
  {
   "cell_type": "code",
   "execution_count": 5,
   "metadata": {},
   "outputs": [],
   "source": [
    "client = hrflow.Client(api_secret=\"secret_api_key\")"
   ]
  },
  {
   "cell_type": "markdown",
   "metadata": {},
   "source": [
    "# GET /sources"
   ]
  },
  {
   "cell_type": "code",
   "execution_count": 7,
   "metadata": {},
   "outputs": [
    {
     "name": "stdout",
     "output_type": "stream",
     "text": [
      "CPU times: user 9.48 ms, sys: 3.53 ms, total: 13 ms\n",
      "Wall time: 1.14 s\n"
     ]
    },
    {
     "data": {
      "text/plain": [
       "{'code': 200,\n",
       " 'page': 1,\n",
       " 'maxPage': 2,\n",
       " 'count': 1,\n",
       " 'total': 2,\n",
       " 'message': 'Source list',\n",
       " 'data': [{'source_id': 'a62ae2d5560fca7b34bb6c0c389a378f99bcdd52',\n",
       "   'name': 'python_ala',\n",
       "   'type': 'api',\n",
       "   'sub_type': 'api',\n",
       "   'archive': False,\n",
       "   'date_creation': {'date': '2020-03-30 16:19:21.000000',\n",
       "    'timezone_type': 3,\n",
       "    'timezone': 'UTC'},\n",
       "   'stats': {'total_profiles': '3'}}]}"
      ]
     },
     "execution_count": 7,
     "metadata": {},
     "output_type": "execute_result"
    }
   ],
   "source": [
    "%%time\n",
    "\n",
    "client.source.search(name='python', limit=1)"
   ]
  },
  {
   "cell_type": "markdown",
   "metadata": {},
   "source": [
    "# GET /source"
   ]
  },
  {
   "cell_type": "code",
   "execution_count": 9,
   "metadata": {},
   "outputs": [
    {
     "name": "stdout",
     "output_type": "stream",
     "text": [
      "CPU times: user 10.8 ms, sys: 226 µs, total: 11 ms\n",
      "Wall time: 564 ms\n"
     ]
    },
    {
     "data": {
      "text/plain": [
       "{'code': 200,\n",
       " 'message': 'Source info',\n",
       " 'data': {'source_id': 'a62ae2d5560fca7b34bb6c0c389a378f99bcdd52',\n",
       "  'name': 'python_ala',\n",
       "  'type': 'api',\n",
       "  'sub_type': 'api',\n",
       "  'archive': False,\n",
       "  'date_creation': {'date': '2020-03-30 16:19:21.000000',\n",
       "   'timezone_type': 3,\n",
       "   'timezone': 'UTC'}}}"
      ]
     },
     "execution_count": 9,
     "metadata": {},
     "output_type": "execute_result"
    }
   ],
   "source": [
    "%%time\n",
    "\n",
    "client.source.get(source_id=\"a62ae2d5560fca7b34bb6c0c389a378f99bcdd52\")"
   ]
  },
  {
   "cell_type": "code",
   "execution_count": null,
   "metadata": {},
   "outputs": [],
   "source": []
  }
 ],
 "metadata": {
  "kernelspec": {
   "display_name": "Python 3",
   "language": "python",
   "name": "python3"
  },
  "language_info": {
   "codemirror_mode": {
    "name": "ipython",
    "version": 3
   },
   "file_extension": ".py",
   "mimetype": "text/x-python",
   "name": "python",
   "nbconvert_exporter": "python",
   "pygments_lexer": "ipython3",
   "version": "3.6.9"
  }
 },
 "nbformat": 4,
 "nbformat_minor": 2
}
